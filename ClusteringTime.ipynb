{
 "cells": [
  {
   "cell_type": "code",
   "execution_count": 1,
   "metadata": {},
   "outputs": [],
   "source": [
    "import pandas as pd\n",
    "import numpy as np\n",
    "import pandas as pd\n",
    "import numpy as np\n",
    "import math as m\n",
    "import datetime\n",
    "import timeit\n",
    "from sklearn.preprocessing import MinMaxScaler\n",
    "import time\n",
    "import matplotlib.pyplot as plt\n",
    "import random"
   ]
  },
  {
   "cell_type": "code",
   "execution_count": 2,
   "metadata": {},
   "outputs": [],
   "source": [
    "def removered(t):\n",
    "    torem = []\n",
    "    for i in range(len(t) - 1):\n",
    "        if ((t[i + 1][1] - t[i][1]).total_seconds()) <= 60:\n",
    "            torem.append(i)\n",
    "    return ([t[x] for x in range(len(t)) if x not in torem])\n",
    "\n",
    "\n",
    "# Cost of deleting a point\n",
    "def costdel(t, k, c):\n",
    "    # Get all x, y, and time terms not in point\n",
    "    x = np.array([t[i][2] for i in range(len(t)) if i != k])\n",
    "    y = np.array([t[i][3] for i in range(len(t)) if i != k])\n",
    "    ti = np.array([t[i][1] for i in range(len(t)) if i != k])\n",
    "    n = len(t)\n",
    "\n",
    "    # Calculate cost of displacement from deletion\n",
    "    xpart = (((np.sum(x) + t[k][2]) / n) - (np.sum(x) / (n - 1))) ** 2\n",
    "    ypart = (((np.sum(y) + t[k][3]) / n) - (np.sum(y) / (n - 1))) ** 2\n",
    "    tpart = (((np.sum(ti) + t[k][1]) / n) - (np.sum(ti) / (n - 1))) ** 2\n",
    "    cost = (1 - c) * (xpart + ypart) + c * (tpart)\n",
    "    #     print(\"costdel xpart: \", xpart)\n",
    "    #     print(\"costdel ypart: \", ypart)\n",
    "    #     print(\"costdel tpart: \", tpart)\n",
    "    #     print(\"costdel: \", cost)\n",
    "    # Return cost\n",
    "    return (m.sqrt(cost))\n",
    "\n",
    "def preprop(df):\n",
    "    df[\"datetime\"] = pd.to_datetime(df[\"datetime\"])\n",
    "    df[\"datetime\"] = df[\"datetime\"].apply(lambda v: v.timestamp())\n",
    "    scaler = MinMaxScaler()\n",
    "    df.iloc[:,1:] = scaler.fit_transform(df.iloc[:,1:])\n",
    "    return(df)\n",
    "\n",
    "def costins(t, p, c):\n",
    "    # Get all x, y, and time terms in the trajectory\n",
    "    x = np.array([t[i][2] for i in range(len(t))])\n",
    "    y = np.array([t[i][3] for i in range(len(t))])\n",
    "    ti = np.array([t[i][1] for i in range(len(t))])\n",
    "    n = len(t)\n",
    "\n",
    "    # Calculate cost of insertion\n",
    "    xpart = (((np.sum(x)) / n) - ((np.sum(x) + p[2]) / (n + 1))) ** 2\n",
    "    ypart = ((np.sum(y) / n) - ((np.sum(y) + p[3]) / (n + 1))) ** 2\n",
    "    tpart = ((np.sum(ti) / n) - ((np.sum(ti) + p[1]) / (n + 1))) ** 2\n",
    "    cost = (1 - c) * (xpart + ypart) + c * (tpart)\n",
    "    #     print(\"costins xpart: \", xpart)\n",
    "    #     print(\"costins ypart: \", ypart)\n",
    "    #     print(\"costins tpart: \", tpart)\n",
    "    #     print(\"costins: \", cost)\n",
    "    # Return cost\n",
    "    return (m.sqrt(cost))\n",
    "\n",
    "\n",
    "def costrep(t, k, p, c):\n",
    "    # Get all x, y, and time terms not in point to be replaced\n",
    "    x = np.array([t[i][2] for i in range(len(t)) if i != k])\n",
    "    y = np.array([t[i][3] for i in range(len(t)) if i != k])\n",
    "    ti = np.array([t[i][1] for i in range(len(t)) if i != k])\n",
    "    n = len(t)\n",
    "\n",
    "    # Calculate cost of displacement from replacement\n",
    "    xpart = (((np.sum(x) + t[k][2]) / n) - ((np.sum(x) + p[2]) / n)) ** 2\n",
    "    ypart = (((np.sum(y) + t[k][3]) / n) - ((np.sum(y) + p[3]) / n)) ** 2\n",
    "    tpart = (((np.sum(ti) + t[k][1]) / n) - ((np.sum(ti) + p[1]) / n)) ** 2\n",
    "    cost = (1 - c) * (xpart + ypart) + (c * tpart)\n",
    "    #     print(\"costrep xpart: \", xpart)\n",
    "    #     print(\"costrep ypart: \", ypart)\n",
    "    #     print(\"costrep tpart: \", tpart)\n",
    "    #     print(\"costrep: \", cost)\n",
    "    # Return cost\n",
    "    return (m.sqrt(cost))\n",
    "\n",
    "\n",
    "# t's are formatted as [[id,x,y,time],[id,x,y,time],....] where time is pandas datetime\n",
    "def editdist(t1, t2, c):\n",
    "    # Revised trajectories\n",
    "    # t1 = removered(t1)\n",
    "    # t2 = removered(t2)\n",
    "\n",
    "    # Get trajectory lengths\n",
    "    n1 = len(t1)\n",
    "    n2 = len(t2)\n",
    "    #     print(\"n1: \", n1)\n",
    "    #     print(\"n2: \", n2)\n",
    "\n",
    "    # Create table to save prior solutions\n",
    "    table = [[0 for i in range(n2 + 1)] for j in range(n1 + 1)]\n",
    "\n",
    "    # Note, should t1 be updated before calculating cost of next insert/del?\n",
    "    # Fill in table where i represents number of points in t1 and j the number of points in t2\n",
    "    for i in range(n1 + 1):\n",
    "        for j in range(n2 + 1):\n",
    "\n",
    "            # Fill first row of table\n",
    "            if i == 0:\n",
    "                table[i][j] = sum([costins(t1, p, c) for p in t2[:j]])\n",
    "            #                 print(\"table value with i = \" +str(i) + \"and j = \" + str(j) + \" : \", table[i][j])\n",
    "            # Fill first column of table\n",
    "            elif j == 0:\n",
    "                table[i][j] = sum([costdel(t1, k, c) for k in range(i)])\n",
    "            #                 print(\"table value with i = \" +str(i) + \"and j = \" + str(j) + \" : \", table[i][j])\n",
    "\n",
    "            # Keep cost the same if points are the same\n",
    "            elif t1[i - 1].all == t2[j - 1].all:\n",
    "                table[i][j] = table[i - 1][j - 1]\n",
    "            #                 print(\"table value with i = \" +str(i) + \"and j = \" + str(j) + \" : \", table[i][j])\n",
    "\n",
    "            # Calculate whether insertion, deletion, or replacement costs the most, and save whichever one is least expensive\n",
    "            else:\n",
    "                valins = table[i][j - 1] + costins(t1, t2[j - 1], c)\n",
    "                valdel = table[i - 1][j] + costdel(t1, i - 1, c)\n",
    "                valrep = table[i - 1][j - 1] + costrep(t1, i - 1, t2[j - 1], c)\n",
    "                #                 print(\"valins: \", valins)\n",
    "                #                 print(\"valdel: \", valdel)\n",
    "                #                 print(\"valrep: \", valrep)\n",
    "\n",
    "                if (valins <= valdel) and (valins <= valrep):\n",
    "                    table[i][j] = valins\n",
    "                #                     print(\"valins in if: \", valins)\n",
    "                #                     print(\"table value with i = \" +str(i) + \"and j = \" + str(j) + \" : \", table[i][j])\n",
    "\n",
    "                elif (valdel <= valins) and (valdel <= valrep):\n",
    "                    table[i][j] = valdel\n",
    "                #                     print(\"valdel in if: \", valdel)\n",
    "                #                     print(\"table value with i = \" +str(i) + \"and j = \" + str(j) + \" : \", table[i][j])\n",
    "\n",
    "                elif (valrep <= valdel) and (valrep <= valins):\n",
    "                    table[i][j] = valrep\n",
    "    #                     print(\"valrep in if: \", valrep)\n",
    "    #                     print(\"table value with i = \" +str(i) + \"and j = \" + str(j) + \" : \", table[i][j])\n",
    "\n",
    "    return table[n1][n2]"
   ]
  },
  {
   "cell_type": "code",
   "execution_count": 17,
   "metadata": {},
   "outputs": [],
   "source": [
    "def createtraj(data, size):\n",
    "    unpro = data.drop([\"taxiid\", \"datetime\"], axis = 1)\n",
    "    unpro = unpro.values.tolist()\n",
    "    preprodata = preprop(data)\n",
    "    preprodata = preprodata.values.tolist()\n",
    "    i = 0\n",
    "    n = len(data)\n",
    "    preprotraj = []\n",
    "    traj =[]\n",
    "    while i + size < n:\n",
    "        #print(data.iloc[i:i+size,:])\n",
    "        traj.append(unpro[i:i+size])\n",
    "        preprotraj.append(preprodata[i:i+size])\n",
    "        i += size\n",
    "    return (np.asarray(preprotraj), np.asarray(traj))\n",
    "\n",
    "def createtraj2(data):\n",
    "    unpro = data.drop([\"taxiid\", \"datetime\"], axis = 1)\n",
    "    unpro = unpro.values.tolist()\n",
    "    preprodata = preprop(data)\n",
    "    preprodata = preprodata.values.tolist()\n",
    "    i = 0\n",
    "    n = len(data)\n",
    "    preprotraj = []\n",
    "    traj =[]\n",
    "    for i in range(n):\n",
    "        #print(data.iloc[i:i+size,:])\n",
    "        traj.append(unpro[i:i+1])\n",
    "        preprotraj.append(preprodata[i:i+1])\n",
    "        i += 1\n",
    "    return (np.asarray(preprotraj), np.asarray(traj))\n",
    "\n",
    "# Main clustering algorithm\n",
    "def tcluster(lines, eps, minlns, c):\n",
    "    # Create array to hold cluster values\n",
    "    Cluster = np.zeros(len(lines))\n",
    "    # Set fist cluster to one\n",
    "    cid = 1\n",
    "    # For each trajectory\n",
    "    for i in range(len(lines)):\n",
    "        line = lines[i]\n",
    "\n",
    "        # if the trajectory is unclassified, classify it or designate it as noise\n",
    "        if Cluster[i] == 0:\n",
    "            # Get neighbors of a trajectory\n",
    "            N = neighbor(line, eps, lines, c)\n",
    "            # Check if trajectory has minimum number of neighbors\n",
    "            if (len(N) >= minlns):\n",
    "                # Give neighbors the cluster id\n",
    "                for n in N:\n",
    "                    Cluster[n] = cid\n",
    "                queue = [n for n in N if n != i]\n",
    "                # Expand cluster based on neighbors of neighbor\n",
    "                Cluster = expandcluster(queue, cid, eps, minlns, Cluster, lines, c)\n",
    "                # Move to next cluster\n",
    "                cid += 1\n",
    "            # If line is unclassified and without enough neighbors to be it's own cluster designate it as noise\n",
    "            else:\n",
    "                Cluster[i] = -1\n",
    "    # Return list of cluster designations, with indices corresponding to trajectories' indices in lines array\n",
    "    return Cluster\n",
    "\n",
    "\n",
    "# Expland cluster based on neighbors of neighbor\n",
    "def expandcluster(Q, cid, eps, minlns, Cluster, lines, c):\n",
    "    while len(Q) != 0:\n",
    "        M = Q.pop(0)\n",
    "        line = lines[M]\n",
    "        N = neighbor(line, eps, lines, c)\n",
    "        if (len(N) >= minlns):\n",
    "            for n in N:\n",
    "                if Cluster[n] in [0, -1]:\n",
    "                    if Cluster[n] == 0:\n",
    "                        Q.append(n)\n",
    "                    Cluster[n] = cid\n",
    "        return Cluster\n",
    "\n",
    "\n",
    "# Get trajectory neighbor\n",
    "def neighbor(trajectory, eps, lines, c):\n",
    "    distances = np.asarray([editdist(trajectory, t, c) for t in lines])\n",
    "    neighbor_indices = np.where(distances <= eps)[0]\n",
    "    return neighbor_indices"
   ]
  },
  {
   "cell_type": "code",
   "execution_count": 4,
   "metadata": {},
   "outputs": [],
   "source": [
    "data = pd.read_csv(\"/Users/tabithasugumar/Documents/Capstone/Data/Data/AllTaxi.csv\")"
   ]
  },
  {
   "cell_type": "code",
   "execution_count": 5,
   "metadata": {},
   "outputs": [],
   "source": [
    "taxi2s = data.sample(n = 10000) #taxitest = data[(data.taxiid == 8711)|(data.taxiid == 3644)]"
   ]
  },
  {
   "cell_type": "code",
   "execution_count": 27,
   "metadata": {},
   "outputs": [
    {
     "data": {
      "text/plain": [
       "2499"
      ]
     },
     "execution_count": 27,
     "metadata": {},
     "output_type": "execute_result"
    }
   ],
   "source": [
    "clust, vis = (createtraj(taxi2s, 4))\n",
    "len(clust)"
   ]
  },
  {
   "cell_type": "code",
   "execution_count": 28,
   "metadata": {},
   "outputs": [
    {
     "name": "stdout",
     "output_type": "stream",
     "text": [
      "0\n",
      "50\n",
      "100\n",
      "150\n",
      "200\n",
      "250\n",
      "300\n",
      "350\n",
      "400\n",
      "450\n",
      "500\n"
     ]
    }
   ],
   "source": [
    "times = []\n",
    "for i in range(0,550,50):\n",
    "    ct = clust[np.random.choice(clust.shape[0], i, replace=False), :]\n",
    "    print(i)\n",
    "    start = time.time()\n",
    "    tcluster(ct, 0.015, 10, 0.5)\n",
    "    end = time.time()\n",
    "    times.append(end - start)"
   ]
  },
  {
   "cell_type": "code",
   "execution_count": 29,
   "metadata": {},
   "outputs": [
    {
     "data": {
      "image/png": "[encoded data removed]",
      "text/plain": [
       "<Figure size 432x288 with 1 Axes>"
      ]
     },
     "metadata": {
      "needs_background": "light"
     },
     "output_type": "display_data"
    }
   ],
   "source": [
    "x = [i for i in range(0,550,50)]\n",
    "plt.plot(x,times)\n",
    "plt.xlabel(\"Number of Trajectories\")\n",
    "plt.ylabel(\"Seconds to Execute\")\n",
    "plt.title(\"Clustering Time as Number of Trajectories Increases\")\n",
    "plt.show()"
   ]
  },
  {
   "cell_type": "code",
   "execution_count": 30,
   "metadata": {},
   "outputs": [
    {
     "name": "stdout",
     "output_type": "stream",
     "text": [
      "[2.5033950805664062e-05, 0.6093831062316895, 1.1395699977874756, 2.2409889698028564, 3.0525429248809814, 8.39923906326294, 12.548947811126709, 14.001224994659424, 11.438684940338135, 11.308794975280762, 20.014174938201904]\n"
     ]
    }
   ],
   "source": [
    "print(times)"
   ]
  },
  {
   "cell_type": "code",
   "execution_count": 31,
   "metadata": {},
   "outputs": [
    {
     "name": "stdout",
     "output_type": "stream",
     "text": [
      "2\n",
      "3\n",
      "4\n",
      "5\n",
      "10\n",
      "20\n"
     ]
    }
   ],
   "source": [
    "times = []\n",
    "x = [2,3,4,5,10,20]\n",
    "for i in x:\n",
    "    clust, vis = (createtraj(taxi2s, i))\n",
    "    ct = clust[np.random.choice(clust.shape[0], 300, replace=False), :]\n",
    "    print(i)\n",
    "    start = time.time()\n",
    "    tcluster(ct, 0.015, 20, 0.5)\n",
    "    end = time.time()\n",
    "    times.append(end - start)"
   ]
  },
  {
   "cell_type": "code",
   "execution_count": 32,
   "metadata": {},
   "outputs": [
    {
     "data": {
      "image/png": "[encoded data removed]",
      "text/plain": [
       "<Figure size 432x288 with 1 Axes>"
      ]
     },
     "metadata": {
      "needs_background": "light"
     },
     "output_type": "display_data"
    }
   ],
   "source": [
    "x = [2,3,4,5,10,20]\n",
    "plt.plot(x,times)\n",
    "plt.xlabel(\"Size of Trajectory\")\n",
    "plt.ylabel(\"Seconds to Execute\")\n",
    "plt.title(\"Clustering Time as Size of Trajectories Increases\")\n",
    "plt.show()"
   ]
  },
  {
   "cell_type": "code",
   "execution_count": 33,
   "metadata": {},
   "outputs": [
    {
     "name": "stdout",
     "output_type": "stream",
     "text": [
      "[1.4711709022521973, 2.7845020294189453, 9.435696125030518, 23.129806995391846, 98.69934797286987, 1253.0512919425964]\n"
     ]
    }
   ],
   "source": [
    "print(times)"
   ]
  },
  {
   "cell_type": "code",
   "execution_count": 20,
   "metadata": {},
   "outputs": [],
   "source": [
    "clust,vis = createtraj2(taxi2s)"
   ]
  },
  {
   "cell_type": "code",
   "execution_count": 24,
   "metadata": {},
   "outputs": [
    {
     "name": "stderr",
     "output_type": "stream",
     "text": [
      "/Users/tabithasugumar/anaconda3/lib/python3.7/site-packages/ipykernel_launcher.py:18: RuntimeWarning: invalid value encountered in double_scalars\n",
      "/Users/tabithasugumar/anaconda3/lib/python3.7/site-packages/ipykernel_launcher.py:19: RuntimeWarning: invalid value encountered in double_scalars\n",
      "/Users/tabithasugumar/anaconda3/lib/python3.7/site-packages/ipykernel_launcher.py:20: RuntimeWarning: invalid value encountered in double_scalars\n"
     ]
    }
   ],
   "source": [
    "times = []\n",
    "for i in range(0,550,50):\n",
    "    ct = clust[np.random.choice(clust.shape[0], i, replace=False), :]\n",
    "    start = time.time()\n",
    "    tcluster(ct, 0.015, 10, 0.5)\n",
    "    end = time.time()\n",
    "    times.append(end - start)"
   ]
  },
  {
   "cell_type": "code",
   "execution_count": 25,
   "metadata": {},
   "outputs": [
    {
     "data": {
      "image/png": "[encoded data removed]",
      "text/plain": [
       "<Figure size 432x288 with 1 Axes>"
      ]
     },
     "metadata": {
      "needs_background": "light"
     },
     "output_type": "display_data"
    }
   ],
   "source": [
    "x = [i for i in range(0,550,50)]\n",
    "plt.plot(x,times)\n",
    "plt.xlabel(\"Number of Line Segments\")\n",
    "plt.ylabel(\"Seconds to Execute\")\n",
    "plt.title(\"Clustering Time as Number of Line Segments Increases\\n\")\n",
    "plt.show()"
   ]
  },
  {
   "cell_type": "code",
   "execution_count": 26,
   "metadata": {},
   "outputs": [
    {
     "name": "stdout",
     "output_type": "stream",
     "text": [
      "[8.106231689453125e-06, 0.04546928405761719, 0.05654501914978027, 0.08622598648071289, 0.12239480018615723, 0.14104318618774414, 0.18517088890075684, 0.22001910209655762, 0.22978997230529785, 0.2531001567840576, 0.28486108779907227]\n"
     ]
    }
   ],
   "source": [
    "print(times)"
   ]
  },
  {
   "cell_type": "code",
   "execution_count": null,
   "metadata": {},
   "outputs": [],
   "source": []
  }
 ],
 "metadata": {
  "kernelspec": {
   "display_name": "Python 3",
   "language": "python",
   "name": "python3"
  },
  "language_info": {
   "codemirror_mode": {
    "name": "ipython",
    "version": 3
   },
   "file_extension": ".py",
   "mimetype": "text/x-python",
   "name": "python",
   "nbconvert_exporter": "python",
   "pygments_lexer": "ipython3",
   "version": "3.7.5"
  }
 },
 "nbformat": 4,
 "nbformat_minor": 2
}
